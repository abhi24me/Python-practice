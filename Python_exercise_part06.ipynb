{
 "cells": [
  {
   "cell_type": "markdown",
   "metadata": {},
   "source": [
    "Q51. Define a class named Circle which can be constructed by a radius. The Circle class has a method which can compute the area. \n",
    "Hints: Use def methodName(self) to define a method."
   ]
  },
  {
   "cell_type": "code",
   "execution_count": 7,
   "metadata": {},
   "outputs": [
    {
     "name": "stdout",
     "output_type": "stream",
     "text": [
      "113.0976\n"
     ]
    }
   ],
   "source": [
    "class Circle():\n",
    "    def __init__(self,r):\n",
    "        self.radius = r\n",
    "    def area(self):\n",
    "        return 3.1416*(self.radius**2)\n",
    "circle = Circle(6)\n",
    "print(circle.area())"
   ]
  },
  {
   "cell_type": "markdown",
   "metadata": {},
   "source": [
    "Q52.  Define a class named Rectangle which can be constructed by a length and width. The Rectangle class has a method which can compute the area. \n",
    "Hints: Use def methodName(self) to define a method."
   ]
  },
  {
   "cell_type": "code",
   "execution_count": 19,
   "metadata": {},
   "outputs": [
    {
     "name": "stdout",
     "output_type": "stream",
     "text": [
      "24\n"
     ]
    }
   ],
   "source": [
    "class Rectangle(object):\n",
    "    def __init__(self,l,b):\n",
    "        self.length = l\n",
    "        self.breadth = b\n",
    "    def area(self):\n",
    "        return self.length*self.breadth\n",
    "rectangle = Rectangle (4,6)\n",
    "print(rectangle.area())"
   ]
  },
  {
   "cell_type": "markdown",
   "metadata": {},
   "source": [
    "Q53. Define a class named Shape and its subclass Square. The Square class has an init function which takes a length as argument. Both classes have a area function which can print the area of the shape where Shape's area is 0 by default. \n",
    "Hints: To override a method in super class, we can define a method with the same name in the super class. "
   ]
  },
  {
   "cell_type": "code",
   "execution_count": 20,
   "metadata": {},
   "outputs": [
    {
     "name": "stdout",
     "output_type": "stream",
     "text": [
      "25\n",
      "0\n"
     ]
    }
   ],
   "source": [
    "class Shape():\n",
    "    def __init__(self):\n",
    "        pass\n",
    "\n",
    "    def area(self):\n",
    "        return 0\n",
    "\n",
    "class Square(Shape):\n",
    "    def __init__(self,length = 0):\n",
    "        Shape.__init__(self)\n",
    "        self.length = length\n",
    "\n",
    "    def area(self):\n",
    "        return self.length*self.length\n",
    "\n",
    "Asqr = Square(5)\n",
    "print(Asqr.area())\n",
    "\n",
    "print(Square().area())"
   ]
  },
  {
   "cell_type": "markdown",
   "metadata": {},
   "source": [
    "Q54.  Write a function to compute 5/0 and use try/except to catch the exceptions. \n",
    "Hints: Use try/except to catch exceptions."
   ]
  },
  {
   "cell_type": "code",
   "execution_count": 28,
   "metadata": {},
   "outputs": [
    {
     "name": "stdout",
     "output_type": "stream",
     "text": [
      "Why on earth you are dividing a number by ZERO!!\n"
     ]
    }
   ],
   "source": [
    "def divide():\n",
    "    return 5/0\n",
    "try:\n",
    "    divide()\n",
    "except ZeroDivisionError as ze:\n",
    "    print(\"Why on earth you are dividing a number by ZERO!!\")\n",
    "except:\n",
    "    print(\"Any other exception\")"
   ]
  },
  {
   "cell_type": "markdown",
   "metadata": {},
   "source": [
    "Q55. Define a custom exception class which takes a string message as attribute. \n",
    "Hints: To define a custom exception, we need to define a class inherited from Exception."
   ]
  },
  {
   "cell_type": "code",
   "execution_count": 48,
   "metadata": {},
   "outputs": [
    {
     "name": "stdout",
     "output_type": "stream",
     "text": [
      "Enter any number : 2345\n",
      "The error raised: Input is grater than 10\n"
     ]
    }
   ],
   "source": [
    "class CustomException(Exception):\n",
    "    def __init__(self, message):\n",
    "        self.message = message\n",
    "num = int(input(\"Enter any number : \"))\n",
    "try:\n",
    "    if num < 10:\n",
    "        raise CustomException(\"Input is less than 10\")\n",
    "    elif num > 10:\n",
    "        raise CustomException(\"Input is grater than 10\")\n",
    "    elif num == 10:\n",
    "        raise CustomException(\"Input is equal 10\")\n",
    "except CustomException as ce:\n",
    "    print(\"The error raised: \" + ce.message)"
   ]
  },
  {
   "cell_type": "markdown",
   "metadata": {},
   "source": [
    "Q56. Assuming that we have some email addresses in the \"username@companyname.com\" format, please write program to print the user name of a given email address. Both user names and company names are composed of letters only. \n",
    "If the following email address is given as input to the program: Chandra@gdhdhtc.com \n",
    "Then, the output of the program should be: Chandra \n",
    "\n",
    "In case of input data being supplied to the question, it should be assumed to be a console input. \n",
    "Hints: Use \\w to match letters."
   ]
  },
  {
   "cell_type": "code",
   "execution_count": 93,
   "metadata": {},
   "outputs": [
    {
     "name": "stdout",
     "output_type": "stream",
     "text": [
      "Enter email : Chandra@gdhdhtc.com \n",
      "Chandra\n"
     ]
    }
   ],
   "source": [
    "import re\n",
    "emailAddress = input(\"Enter email : \")\n",
    "pattern = \"(\\w+)@((\\w+\\.)+(com))\"\n",
    "r2 = re.match(pattern,emailAddress)\n",
    "print(r2.group(1))"
   ]
  },
  {
   "cell_type": "markdown",
   "metadata": {},
   "source": [
    "Q57.  Assuming that we have some email addresses in the \"username@companyname.com\" format, please write program to print the company name of a given email address. Both user names and company names are composed of letters only. \n",
    "If the following email address is given as input to the program: Chandra@analytixlabs.com \n",
    "Then, the output of the program should be: analytixlabs \n",
    "In case of input data being supplied to the question, it should be assumed to be a console input. \n",
    "Hints: Use \\w to match letters"
   ]
  },
  {
   "cell_type": "code",
   "execution_count": 95,
   "metadata": {},
   "outputs": [
    {
     "name": "stdout",
     "output_type": "stream",
     "text": [
      "Enter email : Chandra@analytixlabs.com \n",
      "analytixlabs\n"
     ]
    }
   ],
   "source": [
    "import re\n",
    "emailAddress = input(\"Enter email : \")\n",
    "pattern = \"(\\w+)@(\\w+)\\.(com)\"\n",
    "r2 = re.match(pattern,emailAddress)\n",
    "print(r2.group(2))"
   ]
  },
  {
   "cell_type": "markdown",
   "metadata": {},
   "source": [
    "Q58. Write a program which accepts a sequence of words separated by whitespace as input to print the words composed of digits only. \n",
    "If the following words are given as input to the program: 2 cats and 3 dogs. \n",
    "Then, the output of the program should be: ['2', '3'] \n",
    "In case of input data being supplied to the question, it should be assumed to be a console input. \n",
    "Hints: Use re.findall() to find all substring using regex."
   ]
  },
  {
   "cell_type": "code",
   "execution_count": 102,
   "metadata": {},
   "outputs": [
    {
     "name": "stdout",
     "output_type": "stream",
     "text": [
      "Enter your words : 2 cats and 3 dogs\n",
      "['2', '3']\n"
     ]
    }
   ],
   "source": [
    "import re\n",
    "s = input(\"Enter your words : \")\n",
    "print(re.findall(\"\\d+\",s))"
   ]
  },
  {
   "cell_type": "markdown",
   "metadata": {},
   "source": [
    "# or"
   ]
  },
  {
   "cell_type": "code",
   "execution_count": 99,
   "metadata": {},
   "outputs": [
    {
     "name": "stdout",
     "output_type": "stream",
     "text": [
      " 2 cats and 3 dogs\n",
      "['2', '3']\n"
     ]
    }
   ],
   "source": [
    "seq = input().split()\n",
    "listy = []\n",
    "for digit in seq:\n",
    "    if digit.isdigit():\n",
    "        listy.append(digit)\n",
    "print(listy)"
   ]
  },
  {
   "cell_type": "markdown",
   "metadata": {},
   "source": [
    "Q59. Print a unicode string \"hello world\". \n",
    "Hints: Use u'strings' format to define unicode string."
   ]
  },
  {
   "cell_type": "code",
   "execution_count": 103,
   "metadata": {},
   "outputs": [
    {
     "name": "stdout",
     "output_type": "stream",
     "text": [
      "hello world!\n"
     ]
    }
   ],
   "source": [
    "unicodeString = u\"hello world!\"\n",
    "print(unicodeString)"
   ]
  },
  {
   "cell_type": "markdown",
   "metadata": {},
   "source": [
    "Q60.  Write a program to read an ASCII string and to convert it to a unicode string encoded by utf-8. \n",
    "Hints: Use unicode() function to convert."
   ]
  },
  {
   "cell_type": "code",
   "execution_count": 109,
   "metadata": {},
   "outputs": [
    {
     "name": "stdout",
     "output_type": "stream",
     "text": [
      "abhishek\n",
      "b'abhishek'\n"
     ]
    }
   ],
   "source": [
    "s = input()\n",
    "u = s.encode('utf-8')\n",
    "print(u)"
   ]
  }
 ],
 "metadata": {
  "kernelspec": {
   "display_name": "Python 3",
   "language": "python",
   "name": "python3"
  },
  "language_info": {
   "codemirror_mode": {
    "name": "ipython",
    "version": 3
   },
   "file_extension": ".py",
   "mimetype": "text/x-python",
   "name": "python",
   "nbconvert_exporter": "python",
   "pygments_lexer": "ipython3",
   "version": "3.8.5"
  }
 },
 "nbformat": 4,
 "nbformat_minor": 4
}
