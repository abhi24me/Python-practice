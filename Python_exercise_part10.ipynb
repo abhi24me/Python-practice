{
 "cells": [
  {
   "cell_type": "markdown",
   "metadata": {},
   "source": [
    "Q91.  Define a class Person and its two child classes: Male and Female. All classes have a method \"getGender\" which can print \"Male\" for Male class and \"Female\" for Female class. \n",
    "Hints: Use Subclass(Parentclass) to define a child class."
   ]
  },
  {
   "cell_type": "code",
   "execution_count": 2,
   "metadata": {},
   "outputs": [
    {
     "name": "stdout",
     "output_type": "stream",
     "text": [
      "Male\n",
      "Female\n"
     ]
    }
   ],
   "source": [
    "class Person(object):\n",
    "    def getGender( self ):\n",
    "        return \"Unknown\"\n",
    "\n",
    "class Male( Person ):\n",
    "    def getGender( self ):\n",
    "        return \"Male\"\n",
    "\n",
    "class Female( Person ):\n",
    "    def getGender( self ):\n",
    "        return \"Female\"\n",
    "\n",
    "aMale = Male()\n",
    "aFemale= Female()\n",
    "print (aMale.getGender())\n",
    "print (aFemale.getGender())"
   ]
  },
  {
   "cell_type": "markdown",
   "metadata": {},
   "source": [
    "Q92. Please write a program which count and print the numbers of each character in a string input by console. \n",
    "If the following string is given as input to the program: abcdefgabc \n",
    "Then, the output of the program should be: \n",
    "a,2 \n",
    "c,2 \n",
    "b,2 \n",
    "e,1 \n",
    "d,1 \n",
    "g,1 \n",
    "f,1 \n",
    "Hints: Use dict to store key/value pairs. Use dict.get() method to lookup a key with default value.## "
   ]
  },
  {
   "cell_type": "code",
   "execution_count": 8,
   "metadata": {},
   "outputs": [
    {
     "name": "stdout",
     "output_type": "stream",
     "text": [
      "Enter your strings :abcdefgabc\n",
      "a,2\n",
      "b,2\n",
      "c,2\n",
      "d,1\n",
      "e,1\n",
      "f,1\n",
      "g,1\n"
     ]
    }
   ],
   "source": [
    "dicty = {}\n",
    "s=input(\"Enter your strings :\")\n",
    "for s in s:\n",
    "    dicty[s] = dicty.get(s,0)+1\n",
    "print ('\\n'.join(['%s,%s' % (k, v) for k, v in dicty.items()]))"
   ]
  },
  {
   "cell_type": "markdown",
   "metadata": {},
   "source": [
    "# OR"
   ]
  },
  {
   "cell_type": "code",
   "execution_count": 1,
   "metadata": {},
   "outputs": [
    {
     "name": "stdout",
     "output_type": "stream",
     "text": [
      "a, 2\n",
      "b, 2\n",
      "c, 2\n",
      "d, 1\n",
      "e, 1\n",
      "f, 1\n",
      "g, 1\n"
     ]
    }
   ],
   "source": [
    "s = 'abcdefgabc'\n",
    "for i in sorted(set(s)):\n",
    "    print(f'{i}, {s.count(i)}')"
   ]
  },
  {
   "cell_type": "markdown",
   "metadata": {},
   "source": [
    "Q93. Please write a program which accepts a string from console and print it in reverse order. \n",
    "If the following string is given as input to the program: rise to vote sir \n",
    "Then, the output of the program should be: ris etov ot esir \n",
    "Hints: Use list[::-1] to iterate a list in a reverse order."
   ]
  },
  {
   "cell_type": "code",
   "execution_count": 9,
   "metadata": {},
   "outputs": [
    {
     "name": "stdout",
     "output_type": "stream",
     "text": [
      "Enter your strings :rise to vote sir\n",
      "ris etov ot esir\n"
     ]
    }
   ],
   "source": [
    "s = input(\"Enter your strings :\")\n",
    "print(s[::-1])"
   ]
  },
  {
   "cell_type": "markdown",
   "metadata": {},
   "source": [
    "Q94. Please write a program which accepts a string from console and print the characters that have even indexes. \n",
    "\n",
    "If the following string is given as input to the program: H1e2l3l4o5w6o7r8l9d \n",
    "Then, the output of the program should be: Helloworld \n",
    "Hints: Use list[::2] to iterate a list by step 2."
   ]
  },
  {
   "cell_type": "code",
   "execution_count": 10,
   "metadata": {},
   "outputs": [
    {
     "name": "stdout",
     "output_type": "stream",
     "text": [
      "Enter your strings :H1e2l3l4o5w6o7r8l9d\n",
      "Helloworld\n"
     ]
    }
   ],
   "source": [
    "s = input(\"Enter your strings :\")\n",
    "print(s[::2])"
   ]
  },
  {
   "cell_type": "markdown",
   "metadata": {},
   "source": [
    "Q95. Please write a program which prints all permutations of [1, 2, 3] \n",
    "Hints: Use itertools.permutations() to get permutations of list."
   ]
  },
  {
   "cell_type": "code",
   "execution_count": 18,
   "metadata": {},
   "outputs": [
    {
     "name": "stdout",
     "output_type": "stream",
     "text": [
      "[(1, 2, 3), (1, 3, 2), (2, 1, 3), (2, 3, 1), (3, 1, 2), (3, 2, 1)]\n"
     ]
    }
   ],
   "source": [
    "import itertools\n",
    "print (list(itertools.permutations([1,2,3])))"
   ]
  },
  {
   "cell_type": "markdown",
   "metadata": {},
   "source": [
    "Q96. Write a program to solve a classic ancient Chinese puzzle: \n",
    "We count 35 heads and 94 legs among the chickens and rabbits in a farm. How many rabbits and how many chickens do we have? \n",
    "Hint: Use for loop to iterate all possible solutions "
   ]
  },
  {
   "cell_type": "code",
   "execution_count": 21,
   "metadata": {},
   "outputs": [
    {
     "name": "stdout",
     "output_type": "stream",
     "text": [
      "(23, 12)\n"
     ]
    }
   ],
   "source": [
    "def solve(heads,legs):\n",
    "    err='No solutions!'\n",
    "    for i in range(heads+1):\n",
    "        j=heads-i\n",
    "        if 2*i+4*j==legs:\n",
    "            return i,j\n",
    "    return err\n",
    "heads = 35\n",
    "legs = 94\n",
    "sol=solve(heads,legs)\n",
    "print (sol)"
   ]
  },
  {
   "cell_type": "markdown",
   "metadata": {},
   "source": [
    "Q97. Create a dictionary with phone numbers (phonebook = {“John”: 938477566, \"Jack”: 938377264, \"Jill”: 947662781}). Add \"Jake\" to the phonebook with the phone number 938273443, and remove Jill from the phonebook."
   ]
  },
  {
   "cell_type": "code",
   "execution_count": 52,
   "metadata": {},
   "outputs": [
    {
     "name": "stdout",
     "output_type": "stream",
     "text": [
      "{'John': 938477566, 'Jack': 938377264, 'Jake': 938273443}\n"
     ]
    }
   ],
   "source": [
    "phonebook = {\"John\": 938477566, \"Jack\": 938377264, \"Jill\": 947662781}\n",
    "del phonebook[\"Jill\"]\n",
    "phonebook.update({\"Jake\" :938273443})\n",
    "print(phonebook)"
   ]
  },
  {
   "cell_type": "markdown",
   "metadata": {},
   "source": [
    "Q98. Given the participants' score sheet for your University Sports Day, you are required to find the runner-up score. You are given scores. Store them in a list and find the score of the runner-up.\n",
    "If the following string is given as input to the program: 2 3 6 6 5 Then, the output of the program should be: 5\n",
    "Hints:Make the scores unique and then find 2nd best number"
   ]
  },
  {
   "cell_type": "code",
   "execution_count": 56,
   "metadata": {},
   "outputs": [
    {
     "name": "stdout",
     "output_type": "stream",
     "text": [
      "2 3 6 6 5 \n",
      "5\n"
     ]
    }
   ],
   "source": [
    "arr = map(int, input().split())\n",
    "arr = list(set(arr))\n",
    "arr.sort()\n",
    "print(arr[-2])"
   ]
  },
  {
   "cell_type": "markdown",
   "metadata": {},
   "source": [
    "Q99. You are given a string S and width W. Your task is to wrap the string into a paragraph of width.\n",
    "If the following string is given as input to the program:\n",
    "ABCDEFGHIJKLIMNOQRSTUVWXYZ\n",
    "4\n",
    "Then, the output of the program should be:\n",
    "ABCD\n",
    "EFGH\n",
    "IJKL\n",
    "IMNO\n",
    "QRST\n",
    "UVWX\n",
    "YZ\n",
    "Hints :Use wrap function of textwrap module"
   ]
  },
  {
   "cell_type": "code",
   "execution_count": 57,
   "metadata": {},
   "outputs": [
    {
     "name": "stdout",
     "output_type": "stream",
     "text": [
      "ABCDEFGHIJKLIMNOQRSTUVWXYZ\n",
      "4\n",
      "ABCD\n",
      "EFGH\n",
      "IJKL\n",
      "IMNO\n",
      "QRST\n",
      "UVWX\n",
      "YZ\n"
     ]
    }
   ],
   "source": [
    "import textwrap\n",
    "string = input()\n",
    "width = int(input())\n",
    "print(textwrap.fill(string,width))"
   ]
  },
  {
   "cell_type": "markdown",
   "metadata": {},
   "source": [
    "Q100. You are given an integer, N. Your task is to print an alphabet rangoli of size N. (Rangoli is a form of Indian folk art based on creation of patterns.)\n",
    "Different sizes of alphabet rangoli are shown below:\n",
    "\n",
    "#size 3\n",
    "----c----\n",
    "--c-b-c--\n",
    "c-b-a-b-c\n",
    "--c-b-c--\n",
    "----c----\n",
    "\n",
    "#size 5\n",
    "--------e--------\n",
    "------e-d-e------\n",
    "----e-d-c-d-e----\n",
    "--e-d-c-b-c-d-e--\n",
    "e-d-c-b-a-b-c-d-e\n",
    "--e-d-c-b-c-d-e--\n",
    "----e-d-c-d-e----\n",
    "------e-d-e------\n",
    "--------e--------\n",
    "\n",
    "Hints\n",
    "First print the half of the Rangoli in the given way and save each line in a list. Then print the list in reverse order to get the rest."
   ]
  },
  {
   "cell_type": "code",
   "execution_count": 66,
   "metadata": {},
   "outputs": [
    {
     "name": "stdout",
     "output_type": "stream",
     "text": [
      "----c----\n",
      "--c-b-c--\n",
      "c-b-a-b-c\n",
      "--c-b-c--\n",
      "----c----\n",
      "\n",
      "--------e--------\n",
      "------e-d-e------\n",
      "----e-d-c-d-e----\n",
      "--e-d-c-b-c-d-e--\n",
      "e-d-c-b-a-b-c-d-e\n",
      "--e-d-c-b-c-d-e--\n",
      "----e-d-c-d-e----\n",
      "------e-d-e------\n",
      "--------e--------\n"
     ]
    }
   ],
   "source": [
    "def rangoli(n):\n",
    "    l1=list(map(chr,range(97,123)))\n",
    "    x=l1[n-1::-1]+l1[1:n]\n",
    "    mid=len('-'.join(x))\n",
    "    for i in range(1,n):\n",
    "        print('-'.join(l1[n-1:n-i:-1]+l1[n-i:n]).center(mid,'-'))\n",
    "    for i in range(n,0,-1):\n",
    "        print('-'.join(l1[n-1:n-i:-1]+l1[n-i:n]).center(mid,'-')) \n",
    "rangoli(3)\n",
    "print()\n",
    "rangoli(5)"
   ]
  }
 ],
 "metadata": {
  "kernelspec": {
   "display_name": "Python 3",
   "language": "python",
   "name": "python3"
  },
  "language_info": {
   "codemirror_mode": {
    "name": "ipython",
    "version": 3
   },
   "file_extension": ".py",
   "mimetype": "text/x-python",
   "name": "python",
   "nbconvert_exporter": "python",
   "pygments_lexer": "ipython3",
   "version": "3.8.5"
  }
 },
 "nbformat": 4,
 "nbformat_minor": 4
}
