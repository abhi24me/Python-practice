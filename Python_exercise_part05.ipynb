{
 "cells": [
  {
   "cell_type": "markdown",
   "metadata": {},
   "source": [
    "Q41.  With a given tuple (1,2,3,4,5,6,7,8,9,10), write a program to print the first half values in one line and the last half values in one line. \n",
    "Hints: Use [n1:n2] notation to get a slice from a tuple."
   ]
  },
  {
   "cell_type": "code",
   "execution_count": 3,
   "metadata": {},
   "outputs": [
    {
     "name": "stdout",
     "output_type": "stream",
     "text": [
      "(1, 2, 3, 4, 5)\n",
      "(6, 7, 8, 9, 10)\n"
     ]
    }
   ],
   "source": [
    "tupy = (1,2,3,4,5,6,7,8,9,10)\n",
    "print(tupy[:5])\n",
    "print(tupy[-5:])"
   ]
  },
  {
   "cell_type": "markdown",
   "metadata": {},
   "source": [
    "Q42. Write a program to generate and print another tuple whose values are even numbers in the given tuple (1,2,3,4,5,6,7,8,9,10). \n",
    "Hints: Use \"for\" to iterate the tuple. Use tuple() to generate a tuple from a list."
   ]
  },
  {
   "cell_type": "code",
   "execution_count": 8,
   "metadata": {},
   "outputs": [
    {
     "name": "stdout",
     "output_type": "stream",
     "text": [
      "(2, 4, 6, 8, 10)\n"
     ]
    }
   ],
   "source": [
    "tupy = (1,2,3,4,5,6,7,8,9,10)\n",
    "listy = []\n",
    "for i in tupy:\n",
    "    if i%2==0:\n",
    "        listy.append(i)\n",
    "print(tuple(listy))"
   ]
  },
  {
   "cell_type": "markdown",
   "metadata": {},
   "source": [
    "Q43. Write a program which accepts a string as input to print \"Yes\" if the string is \"yes\" or \"YES\" or \"Yes\", otherwise print \"No\". \n",
    "Hints: Use if statement to judge condition."
   ]
  },
  {
   "cell_type": "code",
   "execution_count": 12,
   "metadata": {},
   "outputs": [
    {
     "name": "stdout",
     "output_type": "stream",
     "text": [
      "Enter yes/no :yEs\n",
      "No\n"
     ]
    }
   ],
   "source": [
    "prog = input(\"Enter yes/no :\")\n",
    "if prog==\"yes\" or prog==\"YES\" or prog==\"Yes\":\n",
    "    print(\"Yes\")\n",
    "else:\n",
    "    print(\"No\")"
   ]
  },
  {
   "cell_type": "markdown",
   "metadata": {},
   "source": [
    "Q44. Write a program which can filter even numbers in a list by using filter function. The list is: [1,2,3,4,5,6,7,8,9,10]. \n",
    "Hints: use filter() to filter some elements in a list. Use lambda to define anonymous functions."
   ]
  },
  {
   "cell_type": "code",
   "execution_count": 17,
   "metadata": {},
   "outputs": [
    {
     "name": "stdout",
     "output_type": "stream",
     "text": [
      "[2, 4, 6, 8, 10]\n"
     ]
    }
   ],
   "source": [
    "listy = [1,2,3,4,5,6,7,8,9,10]\n",
    "fil = filter(lambda i:i%2==0,listy)\n",
    "print(list(fil))"
   ]
  },
  {
   "cell_type": "markdown",
   "metadata": {},
   "source": [
    "Q45. Write a program which can map() to make a list whose elements are square of elements in [1,2,3,4,5,6,7,8,9,10]. \n",
    "Hints: Use map() to generate a list. Use lambda to define anonymous functions."
   ]
  },
  {
   "cell_type": "code",
   "execution_count": 20,
   "metadata": {},
   "outputs": [
    {
     "name": "stdout",
     "output_type": "stream",
     "text": [
      "[1, 4, 9, 16, 25, 36, 49, 64, 81, 100]\n"
     ]
    }
   ],
   "source": [
    "listy = [1,2,3,4,5,6,7,8,9,10]\n",
    "fun = map(lambda i :i**2,listy)\n",
    "print(list(fun))"
   ]
  },
  {
   "cell_type": "markdown",
   "metadata": {},
   "source": [
    "Q46. Write a program which can map() and filter() to make a list whose elements are square of even number in [1,2,3,4,5,6,7,8,9,10]. \n",
    "Hints: Use map() to generate a list. Use filter() to filter elements of a list. Use lambda to define anonymous functions."
   ]
  },
  {
   "cell_type": "code",
   "execution_count": 25,
   "metadata": {},
   "outputs": [
    {
     "name": "stdout",
     "output_type": "stream",
     "text": [
      "[4, 16, 36, 64, 100]\n"
     ]
    }
   ],
   "source": [
    "listy = [1,2,3,4,5,6,7,8,9,10]\n",
    "fun = map(lambda i :i**2,filter((lambda i:i%2==0),listy))\n",
    "print(list(fun))"
   ]
  },
  {
   "cell_type": "markdown",
   "metadata": {},
   "source": [
    "Q47. Write a program which can filter() to make a list whose elements are even number between 1 and 20 (both included). \n",
    "Hints: Use filter() to filter elements of a list. Use lambda to define anonymous functions."
   ]
  },
  {
   "cell_type": "code",
   "execution_count": 29,
   "metadata": {},
   "outputs": [
    {
     "name": "stdout",
     "output_type": "stream",
     "text": [
      "[2, 4, 6, 8, 10, 12, 14, 16, 18, 20]\n"
     ]
    }
   ],
   "source": [
    "fun = filter(lambda i: i%2==0, range(1,21))\n",
    "print(list(fun))"
   ]
  },
  {
   "cell_type": "markdown",
   "metadata": {},
   "source": [
    "Q48. Write a program which can map() to make a list whose elements are square of numbers between 1 and 20 (both included). \n",
    "Hints: Use map() to generate a list. Use lambda to define anonymous functions."
   ]
  },
  {
   "cell_type": "code",
   "execution_count": 30,
   "metadata": {},
   "outputs": [
    {
     "name": "stdout",
     "output_type": "stream",
     "text": [
      "[1, 4, 9, 16, 25, 36, 49, 64, 81, 100, 121, 144, 169, 196, 225, 256, 289, 324, 361, 400]\n"
     ]
    }
   ],
   "source": [
    "fun = map(lambda i: i**2, range(1,21))\n",
    "print(list(fun))"
   ]
  },
  {
   "cell_type": "markdown",
   "metadata": {},
   "source": [
    "Q49. Define a class named American which has a static method called printNationality. \n",
    "Hints: Use @staticmethod decorator to define class static method."
   ]
  },
  {
   "cell_type": "code",
   "execution_count": 39,
   "metadata": {},
   "outputs": [
    {
     "name": "stdout",
     "output_type": "stream",
     "text": [
      "I am American\n"
     ]
    }
   ],
   "source": [
    "class American():\n",
    "    @staticmethod\n",
    "    def printNationality():\n",
    "        print(\"I am American\")\n",
    "american = American()\n",
    "American.printNationality()"
   ]
  },
  {
   "cell_type": "markdown",
   "metadata": {},
   "source": [
    "Q50. Define a class named American and its subclass NewYorker. \n",
    "Hints: Use class Subclass(ParentClass) to define a subclass."
   ]
  },
  {
   "cell_type": "code",
   "execution_count": 41,
   "metadata": {},
   "outputs": [
    {
     "name": "stdout",
     "output_type": "stream",
     "text": [
      "<__main__.American object at 0x0000016B8D75B190>\n",
      "<__main__.NewYorker object at 0x0000016B8D75B220>\n"
     ]
    }
   ],
   "source": [
    "class American():\n",
    "    pass\n",
    "class NewYorker(American):\n",
    "    pass\n",
    "american = American()\n",
    "newyorker = NewYorker()\n",
    "print(american)\n",
    "print(newyorker)"
   ]
  }
 ],
 "metadata": {
  "kernelspec": {
   "display_name": "Python 3",
   "language": "python",
   "name": "python3"
  },
  "language_info": {
   "codemirror_mode": {
    "name": "ipython",
    "version": 3
   },
   "file_extension": ".py",
   "mimetype": "text/x-python",
   "name": "python",
   "nbconvert_exporter": "python",
   "pygments_lexer": "ipython3",
   "version": "3.8.5"
  }
 },
 "nbformat": 4,
 "nbformat_minor": 4
}
