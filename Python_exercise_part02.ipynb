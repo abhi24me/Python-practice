{
 "cells": [
  {
   "cell_type": "markdown",
   "metadata": {},
   "source": [
    "Q11. Write a program which accepts a sequence of comma separated 4 digit binary numbers as its input and then check whether they are divisible by 5 or not. The numbers that are divisible by 5 are to be printed in a comma separated sequence. \n",
    "Suppose the input is supplied to the program: 0100,0011,1010,1001 \n",
    "Then the output should be: 1010 \n",
    "Notes: Assume the data is input by console. \n",
    "Hints: In case of input data being supplied to the question, it should be assumed to be a console input."
   ]
  },
  {
   "cell_type": "code",
   "execution_count": 45,
   "metadata": {},
   "outputs": [
    {
     "name": "stdout",
     "output_type": "stream",
     "text": [
      " enter binary digits :0100,0011,1010,1001\n",
      "1010\n"
     ]
    }
   ],
   "source": [
    "value = []\n",
    "items=input(\" enter binary digits :\").split(\",\")\n",
    "for i in items:\n",
    "    inti = int(i, 2) #to convert into binary\n",
    "    if not inti%5:\n",
    "        value.append(i)\n",
    "\n",
    "print(','.join(value))"
   ]
  },
  {
   "cell_type": "markdown",
   "metadata": {},
   "source": [
    "Q12. Write a program, which will find all such numbers between 1000 and 3000 (both included) such that each digit of the number is an even number. \n",
    "The numbers obtained should be printed in a comma-separated sequence on a single line. \n",
    "Hints: In case of input data being supplied to the question, it should be assumed to be a console input."
   ]
  },
  {
   "cell_type": "code",
   "execution_count": 28,
   "metadata": {},
   "outputs": [
    {
     "name": "stdout",
     "output_type": "stream",
     "text": [
      "2000,2002,2004,2006,2008,2020,2022,2024,2026,2028,2040,2042,2044,2046,2048,2060,2062,2064,2066,2068,2080,2082,2084,2086,2088,2200,2202,2204,2206,2208,2220,2222,2224,2226,2228,2240,2242,2244,2246,2248,2260,2262,2264,2266,2268,2280,2282,2284,2286,2288,2400,2402,2404,2406,2408,2420,2422,2424,2426,2428,2440,2442,2444,2446,2448,2460,2462,2464,2466,2468,2480,2482,2484,2486,2488,2600,2602,2604,2606,2608,2620,2622,2624,2626,2628,2640,2642,2644,2646,2648,2660,2662,2664,2666,2668,2680,2682,2684,2686,2688,2800,2802,2804,2806,2808,2820,2822,2824,2826,2828,2840,2842,2844,2846,2848,2860,2862,2864,2866,2868,2880,2882,2884,2886,2888\n",
      "total numbers are : 125\n"
     ]
    }
   ],
   "source": [
    "listy = []\n",
    "c = 0 # to count the total numbers that are there.\n",
    "for i in range(1000, 3001):\n",
    "    s = str(i) # to convert integer into string\n",
    "    if (int(s[0])%2==0) and (int(s[1])%2==0) and (int(s[2])%2==0) and (int(s[3])%2==0):\n",
    "        listy.append(s)\n",
    "        c = c+1 # it will add '1' to the 'c' everytimme the loop runs.\n",
    "print(\",\".join(listy))\n",
    "print(\"total numbers are :\",c)"
   ]
  },
  {
   "cell_type": "markdown",
   "metadata": {},
   "source": [
    "Q13. Write a program that accepts a sentence and calculate the number of letters and digits. \n",
    "Suppose the input is supplied to the program: hello world! 123 \n",
    "Then, the output should be: LETTERS 10\n",
    "\n",
    "DIGITS 3 \n",
    "Hints: In case of input data being supplied to the question, it should be assumed to be a console input."
   ]
  },
  {
   "cell_type": "code",
   "execution_count": 46,
   "metadata": {},
   "outputs": [
    {
     "name": "stdout",
     "output_type": "stream",
     "text": [
      "enter alphabets and digits :HELLO WORLD!123\n",
      "LETTERS : 10 DIGITS : 3\n"
     ]
    }
   ],
   "source": [
    "word = input(\"enter alphabets and digits :\")\n",
    "alpha = 0\n",
    "digit = 0\n",
    "for i in word:\n",
    "    if i.isalpha():\n",
    "        alpha = alpha+1\n",
    "    elif i.isdigit():\n",
    "        digit = digit+1\n",
    "    else:\n",
    "        pass\n",
    "print(\"LETTERS :\",alpha,\"DIGITS :\",digit)"
   ]
  },
  {
   "cell_type": "markdown",
   "metadata": {},
   "source": [
    "Q14. Write a program that accepts a sentence and calculate the number of upper case letters and lower case letters. \n",
    "Suppose the input is supplied to the program: Hello world! \n",
    "Then, the output should be: UPPER CASE 1 \n",
    "LOWER CASE 9 \n",
    "Hints: In case of input data being supplied to the question, it should be assumed to be a console input. "
   ]
  },
  {
   "cell_type": "code",
   "execution_count": 61,
   "metadata": {},
   "outputs": [
    {
     "name": "stdout",
     "output_type": "stream",
     "text": [
      "Enter any sentence :Hello world!\n",
      "UPPER CASE : 1 \n",
      "LOWER CASE : 9\n"
     ]
    }
   ],
   "source": [
    "sent = input(\"Enter any sentence :\")\n",
    "upper,lower = 0,0\n",
    "for i in sent:\n",
    "        upper+=i.isupper()\n",
    "        lower+=i.islower()\n",
    "print(\"UPPER CASE :\",upper,\"\\nLOWER CASE :\",lower)"
   ]
  },
  {
   "cell_type": "markdown",
   "metadata": {},
   "source": [
    "Q15. Write a program that computes the value of a+aa+aaa+aaaa with a given digit as the value of a. \n",
    "Suppose the input is supplied to the program: 9 \n",
    "Then, the output should be: 11106 \n",
    "Hints: In case of input data being supplied to the question, it should be assumed to be a console input."
   ]
  },
  {
   "cell_type": "code",
   "execution_count": 64,
   "metadata": {},
   "outputs": [
    {
     "name": "stdout",
     "output_type": "stream",
     "text": [
      "Enter 9\n",
      "11106\n"
     ]
    }
   ],
   "source": [
    "a = input(\"Enter \")\n",
    "print(sum(int(i*a) for i in range(1,5)))"
   ]
  },
  {
   "cell_type": "markdown",
   "metadata": {},
   "source": [
    "Q16. Use a list comprehension to square each odd number in a list. The list is input by a sequence of comma-separated numbers. \n",
    "Suppose the input is supplied to the program: 1,2,3,4,5,6,7,8,9 \n",
    "Then, the output should be: 1, 3, 5, 7, 9 \n",
    "Hints: In case of input data being supplied to the question, it should be assumed to be a console input."
   ]
  },
  {
   "cell_type": "code",
   "execution_count": 68,
   "metadata": {},
   "outputs": [
    {
     "name": "stdout",
     "output_type": "stream",
     "text": [
      "Enter sequence :1,2,3,4,5,6,7,8,9\n",
      "1,9,25,49,81\n"
     ]
    }
   ],
   "source": [
    "w = input(\"Enter sequence :\").split(',')\n",
    "lst = [str(int(i)**2) for i in w if int(i) % 2]\n",
    "print(\",\".join(lst))"
   ]
  },
  {
   "cell_type": "markdown",
   "metadata": {},
   "source": [
    "Q17. Write a program that computes the net amount of a bank account based a transaction log from console input. The transaction log format is shown as following: \n",
    "D 100 \n",
    "W 200 \n",
    "--D means deposit while W means withdrawal. \n",
    "Suppose the input is supplied to the program: \n",
    "D 300\n",
    "D 300 \n",
    "W 200 \n",
    "D 100 \n",
    "Then, the output should be: 500 \n",
    "Hints: In case of input data being supplied to the question, it should be assumed to be a console input."
   ]
  },
  {
   "cell_type": "code",
   "execution_count": 11,
   "metadata": {},
   "outputs": [
    {
     "name": "stdout",
     "output_type": "stream",
     "text": [
      "Deposit/Whitdrow/Balance/Quit ? D/W/B/Q: q\n"
     ]
    }
   ],
   "source": [
    "account = 0\n",
    "while True:\n",
    "    action = input(\"Deposit/Whitdrow/Balance/Quit ? D/W/B/Q: \").lower()\n",
    "    if action == \"d\":\n",
    "        deposit = input(\"How much would you like to deposit? \")\n",
    "        account = account + int(deposit)\n",
    "        print(\"Balance :\",account)\n",
    "    elif action == \"w\":\n",
    "        withdraw = input(\"How much would you like to withdraw? \")\n",
    "        account = account - int(withdraw)\n",
    "        print(\"Balance :\",account)\n",
    "    elif action == \"b\":\n",
    "        print(\"Balance :\",account)\n",
    "    elif action == \"q\":\n",
    "        break\n",
    "    else: \n",
    "        break"
   ]
  },
  {
   "cell_type": "markdown",
   "metadata": {},
   "source": [
    "18. A website requires the users to input username and password to register. Write a program to check the validity of password input by users. \n",
    "Following are the criteria for checking the password: \n",
    "\n",
    "a. At least 1 letter between [a-z] \n",
    "\n",
    "b. At least 1 number between [0-9] \n",
    "\n",
    "c. At least 1 letter between [A-Z] \n",
    "\n",
    "d. At least 1 character from [$#@] \n",
    "\n",
    "e. Minimum length of transaction password: 6 \n",
    "\n",
    "f. Maximum length of transaction password: 12\n",
    "\n",
    "Your program should accept a sequence of comma separated passwords and will check them according to the above criteria. Passwords that match the criteria are to be printed, each separated by a comma. \n",
    "If the following passwords are given as input to the program: ABd1234@1,a F1#,2w3E*,2We3345 \n",
    "Then, the output of the program should be: ABd1234@1 \n",
    "Hints: In case of input data being supplied to the question, it should be assumed to be a console input."
   ]
  },
  {
   "cell_type": "code",
   "execution_count": 12,
   "metadata": {},
   "outputs": [
    {
     "name": "stdout",
     "output_type": "stream",
     "text": [
      "Enter passwords: ABd1234@1,a F1#,2w3E*,2We3345\n",
      "ABd1234@1\n"
     ]
    }
   ],
   "source": [
    "import re\n",
    "a = input('Enter passwords: ').split(',')\n",
    "pass_pattern = re.compile(r\"^(?=.*[0-9])(?=.*[a-z])(?=.*[A-Z])(?=.*[$#@]).{6,12}$\")\n",
    "for i in a:\n",
    "    if pass_pattern.fullmatch(i):\n",
    "        print(i)"
   ]
  },
  {
   "cell_type": "markdown",
   "metadata": {},
   "source": [
    "19. You are required to write a program to sort the (name, age, height) tuples by ascending order where name is string, age and height are numbers. The tuples are input by console. The sort criteria is: \n",
    "1: Sort based on name; \n",
    "2: Then sort based on age; \n",
    "3: Then sort by score. \n",
    "\n",
    "The priority is that name > age > score. \n",
    "If the following tuples are given as input to the program: \n",
    "Tom,19,80 \n",
    "John,20,90 \n",
    "Jony,17,91 \n",
    "Jony,17,93 \n",
    "Json,21,85 \n",
    "Then, the output of the program should be: \n",
    "[('John', '20', '90'), ('Jony', '17', '91'), ('Jony', '17', '93'), ('Json', '21', '85'), ('Tom', '19', '80')] \n",
    "Hints: In case of input data being supplied to the question, it should be assumed to be a console input. We use itemgetter to enable multiple sort keys."
   ]
  },
  {
   "cell_type": "code",
   "execution_count": 18,
   "metadata": {},
   "outputs": [
    {
     "name": "stdout",
     "output_type": "stream",
     "text": [
      "Tom,19,80 John,20,90 Jony,17,91 Jony,17,93 Json,21,85\n",
      "\n",
      "[('Tom', '19', '80 John', '20', '90 Jony', '17', '91 Jony', '17', '93 Json', '21', '85')]\n"
     ]
    }
   ],
   "source": [
    " from operator import itemgetter, attrgetter\n",
    "l = []\n",
    "while True:\n",
    "    s = input()\n",
    "    if not s:\n",
    "        break\n",
    "    l.append(tuple(s.split(\",\")))\n",
    "\n",
    "print(sorted(l, key=itemgetter(0,1,2)))"
   ]
  },
  {
   "cell_type": "markdown",
   "metadata": {},
   "source": [
    "20. Define a class with a generator which can iterate the numbers, which are divisible by 7, between a given range 0 and n. "
   ]
  },
  {
   "cell_type": "code",
   "execution_count": 23,
   "metadata": {},
   "outputs": [
    {
     "name": "stdout",
     "output_type": "stream",
     "text": [
      "Please insert a number. --> 49\n",
      "7\n",
      "14\n",
      "21\n",
      "28\n",
      "35\n",
      "42\n",
      "49\n"
     ]
    }
   ],
   "source": [
    "class Divisible:\n",
    "\n",
    "    def by_seven(self, n):\n",
    "        for number in range(1,n + 1):\n",
    "            if number % 7 == 0: yield number\n",
    "\n",
    "\n",
    "divisible = Divisible()\n",
    "generator = divisible.by_seven(int(input(\"Please insert a number. --> \")))\n",
    "for number in generator:\n",
    "    print(number)"
   ]
  }
 ],
 "metadata": {
  "kernelspec": {
   "display_name": "Python 3",
   "language": "python",
   "name": "python3"
  },
  "language_info": {
   "codemirror_mode": {
    "name": "ipython",
    "version": 3
   },
   "file_extension": ".py",
   "mimetype": "text/x-python",
   "name": "python",
   "nbconvert_exporter": "python",
   "pygments_lexer": "ipython3",
   "version": "3.8.5"
  }
 },
 "nbformat": 4,
 "nbformat_minor": 4
}
